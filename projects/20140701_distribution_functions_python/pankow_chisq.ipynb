{
 "metadata": {
  "name": ""
 },
 "nbformat": 3,
 "nbformat_minor": 0,
 "worksheets": [
  {
   "cells": [
    {
     "cell_type": "code",
     "collapsed": false,
     "input": [
      "# This is to ensure that relevant random variables remain the same between invocations of the random number generator\n",
      "# Change seed to get new random draws\n",
      "seed = 0\n",
      "numpy.random.seed(0)"
     ],
     "language": "python",
     "metadata": {},
     "outputs": [],
     "prompt_number": 1
    },
    {
     "cell_type": "markdown",
     "metadata": {},
     "source": [
      "The $\\chi^2$ distribution is described by only one parameter: the number of degrees of freedom. This parameter can be understood in a straightforward way: it is the distirbution which is formed from the sums of independent Gaussian variables squared with zero mean and unit variance:\n",
      "\n",
      "\\begin{equation}\n",
      "X \\sim \\text{Gaussian}(\\mu, \\sigma) \\\\\n",
      "\\chi^2_k \\sim \\sum^k X(\\mu=0, \\sigma=1)\n",
      "\\end{equation}\n",
      "\n",
      "This particular form is called the central chi-squared distribution. There is also a non-central chi-squared distribution which is formed from summing Gaussian variables with non-zero mean, or differing variances."
     ]
    },
    {
     "cell_type": "code",
     "collapsed": false,
     "input": [
      "# The chi-squared distribution is available in numpy/scipy.random as the chisquared function\n",
      "import numpy\n",
      "?numpy.random.chisquare"
     ],
     "language": "python",
     "metadata": {},
     "outputs": [],
     "prompt_number": 2
    },
    {
     "cell_type": "code",
     "collapsed": false,
     "input": [
      "# I will (arbitrarily) select a chi-squared DoF = 2 -- other selections are possible\n",
      "# N=10 random variables\n",
      "dof = 2\n",
      "data = numpy.random.chisquare(dof, 10)"
     ],
     "language": "python",
     "metadata": {},
     "outputs": [],
     "prompt_number": 3
    },
    {
     "cell_type": "markdown",
     "metadata": {},
     "source": [
      "A note on the 'with' directive: code within the with block allows for \"aliasing\" the given statement in the result variable. After the code block within 'with' is executed, all the resources are cleaned up. In this case, it avoids the need to call \".close()' on the file handle."
     ]
    },
    {
     "cell_type": "code",
     "collapsed": false,
     "input": [
      "# Now save to file\n",
      "with open(\"chisquared_n_10.txt\", \"w\") as fout:\n",
      "    for x in data:\n",
      "        print >>fout, x\n",
      "        \n",
      "# The above line will print each variable (on per line) with a default floating point format. Numpy has convenience methods for doing\n",
      "# this as well\n",
      "numpy.savetxt(\"temp_numpy_test.txt\", data)\n",
      "\n",
      "# There's a convenience loader as well\n",
      "test = numpy.loadtxt(\"temp_numpy_test.txt\")\n",
      "print data == test\n",
      "\n",
      "# We don't need test, it was just for verification purposes\n",
      "del test"
     ],
     "language": "python",
     "metadata": {},
     "outputs": [
      {
       "output_type": "stream",
       "stream": "stdout",
       "text": [
        "[ True  True  True  True  True  True  True  True  True  True]\n"
       ]
      }
     ],
     "prompt_number": 4
    },
    {
     "cell_type": "code",
     "collapsed": false,
     "input": [
      "# Histogram the data\n",
      "# For N = 10, the histogram is very sparse. Histograms are always sensitive to both the limits of the histogram, as well as \n",
      "# the number of bins. I'll choose 5 bins for now, but up the value later.\n",
      "\n",
      "from matplotlib import pyplot\n",
      "pyplot.hist(data, bins=5)\n",
      "pyplot.grid()\n",
      "pyplot.xlabel(\"draw value\")\n",
      "pyplot.ylabel(\"N\")\n",
      "pyplot.title(\"$\\chi^2$ with $k=2$\")"
     ],
     "language": "python",
     "metadata": {},
     "outputs": [
      {
       "metadata": {},
       "output_type": "pyout",
       "prompt_number": 5,
       "text": [
        "<matplotlib.text.Text at 0x10c1a5b10>"
       ]
      },
      {
       "metadata": {},
       "output_type": "display_data",
       "png": "[encoded data removed]",
       "text": [
        "<matplotlib.figure.Figure at 0x10c199450>"
       ]
      }
     ],
     "prompt_number": 5
    },
    {
     "cell_type": "markdown",
     "metadata": {},
     "source": [
      "Some descriptive statisitics for the chi-squared distribution are analytically calculable. See:\n",
      "\n",
      "https://en.wikipedia.org/wiki/Chi_square_distribution\n",
      "\n",
      "For example, the first four moments:\n",
      "\n",
      "\\begin{eqnarray}\n",
      "\\mu = k \\\\\n",
      "\\sigma^2 = 2k \\\\\n",
      "\\text{skew} = \\sqrt{8/k} \\\\\n",
      "\\text{kurtosis} = 12/k \\\\\n",
      "\\text{median} \\simeq k\\left(1-\\frac{2}{9k}\\right)^3 \\\\\n",
      "\\text{mode} = \\max(k-2, 0)\n",
      "\\end{eqnarray}"
     ]
    },
    {
     "cell_type": "code",
     "collapsed": false,
     "input": [
      "# For N = 10 these will suffer from the small number of draws that we have done.\n",
      "\n",
      "from scipy import stats\n",
      "mean = numpy.mean(data)\n",
      "var = numpy.var(data)\n",
      "skew = stats.skew(data)\n",
      "kurt = stats.kurtosis(data)\n",
      "med = numpy.median(data)\n",
      "mode = stats.mode(data)[0]\n",
      "\n",
      "print \"\"\"\n",
      "mean: %1.2f\n",
      "variance: %1.2f\n",
      "skew: %1.2f\n",
      "kurtosis: %1.2f\n",
      "median: %1.2f\n",
      "mode: %1.2f\n",
      "\"\"\" % (mean, var, skew, kurt, med, mode)"
     ],
     "language": "python",
     "metadata": {},
     "outputs": [
      {
       "output_type": "stream",
       "stream": "stdout",
       "text": [
        "\n",
        "mean: 2.39\n",
        "variance: 2.91\n",
        "skew: 1.54\n",
        "kurtosis: 1.14\n",
        "median: 1.72\n",
        "mode: 0.97\n",
        "\n"
       ]
      }
     ],
     "prompt_number": 6
    },
    {
     "cell_type": "code",
     "collapsed": false,
     "input": [
      "for n in (100, 1000, 10000):\n",
      "    data = numpy.random.chisquare(dof, n)\n",
      "    mean = numpy.mean(data)\n",
      "    var = numpy.var(data)\n",
      "    skew = stats.skew(data)\n",
      "    kurt = stats.kurtosis(data)\n",
      "    med = numpy.median(data)\n",
      "    mode = stats.mode(data)[0]\n",
      "\n",
      "    print \"\"\"\n",
      "n: %d\n",
      "mean: %1.2f\n",
      "variance: %1.2f\n",
      "skew: %1.2f\n",
      "kurtosis: %1.2f\n",
      "median: %1.2f\n",
      "mode: %1.2f\n",
      "\"\"\" % (n, mean, var, skew, kurt, med, mode)\n",
      "    \n",
      "    # Note that I use the 'normalized' version here so that all are representable on the same histogram\n",
      "    pyplot.hist(data, bins=20, normed=True, histtype='stepfilled', alpha=0.7, label=\"%d samples\" % n)\n",
      "    \n",
      "# Plot the theoretical:\n",
      "maxv = numpy.max(data)\n",
      "x = numpy.linspace(0, maxv, 100)\n",
      "\n",
      "# Note the use here of stats.chi2: it's a more object oriented way to access various statistical distributions\n",
      "pyplot.plot(x, stats.chi2.pdf(x, dof), 'k-', label='theor. dist.')\n",
      "pyplot.grid()\n",
      "pyplot.xlabel(\"draw value\")\n",
      "pyplot.ylabel(\"frequency (normed)\")\n",
      "pyplot.title(\"$\\chi^2$ with $k=2$\")\n",
      "pyplot.xlim([0, maxv])\n",
      "pyplot.legend()\n",
      "    \n",
      "    "
     ],
     "language": "python",
     "metadata": {},
     "outputs": [
      {
       "output_type": "stream",
       "stream": "stdout",
       "text": [
        "\n",
        "n: 100\n",
        "mean: 1.84\n",
        "variance: 3.66\n",
        "skew: 1.71\n",
        "kurtosis: 2.65\n",
        "median: 1.26\n",
        "mode: 0.01\n",
        "\n",
        "\n",
        "n: 1000\n",
        "mean: 2.02\n",
        "variance: 4.35\n",
        "skew: 2.03\n",
        "kurtosis: 6.23\n",
        "median: 1.32\n",
        "mode: 0.00\n"
       ]
      },
      {
       "output_type": "stream",
       "stream": "stdout",
       "text": [
        "\n",
        "\n",
        "n: 10000\n",
        "mean: 1.97\n",
        "variance: 3.96\n",
        "skew: 2.14\n",
        "kurtosis: 7.79\n",
        "median: 1.36\n",
        "mode: 0.00\n"
       ]
      },
      {
       "output_type": "stream",
       "stream": "stdout",
       "text": [
        "\n"
       ]
      },
      {
       "metadata": {},
       "output_type": "pyout",
       "prompt_number": 7,
       "text": [
        "<matplotlib.legend.Legend at 0x10d40e610>"
       ]
      },
      {
       "metadata": {},
       "output_type": "display_data",
       "png": "[encoded data removed]",
       "text": [
        "<matplotlib.figure.Figure at 0x10d3e7650>"
       ]
      }
     ],
     "prompt_number": 7
    },
    {
     "cell_type": "code",
     "collapsed": false,
     "input": [
      "# Let's try a new DoF for a quick example\n",
      "dof = 4\n",
      "\n",
      "# As an aside, plot the distribution of sums of squares of random Gaussian variables:\n",
      "g_rnd_var = numpy.random.normal(0, 1, 40000).reshape(10000, dof)\n",
      "data = (g_rnd_var**2).sum(axis=1)\n",
      "\n",
      "pyplot.hist(data, bins=20, normed=True, histtype='stepfilled')\n",
      "pyplot.grid()\n",
      "pyplot.xlabel(\"draw value\")\n",
      "pyplot.ylabel(\"frequency (normed)\")\n",
      "pyplot.title(\"Sum of squares of %d Gaussian random variables\" % dof)\n",
      "\n",
      "# Plot the theoretical:\n",
      "maxv = numpy.max(data)\n",
      "x = numpy.linspace(0, maxv, 100)\n",
      "\n",
      "pyplot.plot(x, stats.chi2.pdf(x, dof), 'k-', label='theor. dist.')"
     ],
     "language": "python",
     "metadata": {},
     "outputs": [
      {
       "metadata": {},
       "output_type": "pyout",
       "prompt_number": 8,
       "text": [
        "[<matplotlib.lines.Line2D at 0x10c1c6f50>]"
       ]
      },
      {
       "metadata": {},
       "output_type": "display_data",
       "png": "[encoded data removed]",
       "text": [
        "<matplotlib.figure.Figure at 0x10c1c6e10>"
       ]
      }
     ],
     "prompt_number": 8
    },
    {
     "cell_type": "code",
     "collapsed": false,
     "input": [],
     "language": "python",
     "metadata": {},
     "outputs": [],
     "prompt_number": 8
    }
   ],
   "metadata": {}
  }
 ]
}